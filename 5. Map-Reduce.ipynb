{
 "metadata": {
  "language": "Julia",
  "name": ""
 },
 "nbformat": 3,
 "nbformat_minor": 0,
 "worksheets": [
  {
   "cells": [
    {
     "cell_type": "code",
     "collapsed": false,
     "input": [
      "addprocs(5);"
     ],
     "language": "python",
     "metadata": {},
     "outputs": []
    },
    {
     "cell_type": "code",
     "collapsed": false,
     "input": [
      "nprocs()"
     ],
     "language": "python",
     "metadata": {},
     "outputs": []
    },
    {
     "cell_type": "code",
     "collapsed": false,
     "input": [
      "@everywhere function par(I)\n",
      "  d=(length(I[1]),length(I[2]))\n",
      "  m=fill(myid(),d)\n",
      "  println(I)\n",
      "  println(d)\n",
      "  return m\n",
      "end"
     ],
     "language": "python",
     "metadata": {},
     "outputs": []
    },
    {
     "cell_type": "code",
     "collapsed": false,
     "input": [
      "m=DArray(par,(8,8),[2:5])"
     ],
     "language": "python",
     "metadata": {},
     "outputs": []
    },
    {
     "cell_type": "code",
     "collapsed": false,
     "input": [
      "m.indexes"
     ],
     "language": "python",
     "metadata": {},
     "outputs": []
    },
    {
     "cell_type": "code",
     "collapsed": false,
     "input": [
      "m.chunks"
     ],
     "language": "python",
     "metadata": {},
     "outputs": []
    },
    {
     "cell_type": "code",
     "collapsed": false,
     "input": [
      "fetch(@spawnat 2 localpart(m))"
     ],
     "language": "python",
     "metadata": {},
     "outputs": []
    },
    {
     "cell_type": "code",
     "collapsed": false,
     "input": [
      "procs(m)"
     ],
     "language": "python",
     "metadata": {},
     "outputs": []
    },
    {
     "cell_type": "code",
     "collapsed": false,
     "input": [
      "map(fetch,{@spawnat p sum(localpart(m)) for p in procs(m)})"
     ],
     "language": "python",
     "metadata": {},
     "outputs": []
    },
    {
     "cell_type": "code",
     "collapsed": false,
     "input": [
      "reduce(+,map(fetch,{@spawnat p sum(localpart(m)) for p in procs(m)}))"
     ],
     "language": "python",
     "metadata": {},
     "outputs": []
    },
    {
     "cell_type": "code",
     "collapsed": false,
     "input": [
      "# \"Map\" function.\n",
      "# Takes a string. Returns a HashTable with the number of times each word \n",
      "# appears in that string.\n",
      "@everywhere function wordcount(text)\n",
      "    words=split(text,r\"\\s+|'\\n'|'\\t'|:|;|,|!|\\\"|\\.|,\",false)\n",
      "    counts=Dict()\n",
      "    for w in words\n",
      "        counts[w]=get(counts,w,0)+1\n",
      "    end\n",
      "    return counts\n",
      "end"
     ],
     "language": "python",
     "metadata": {},
     "outputs": []
    },
    {
     "cell_type": "code",
     "collapsed": false,
     "input": [
      "# \"Reduce\" function.\n",
      "# Takes a collection of HashTables in the format returned by wordcount()\n",
      "# Returns a HashTable in which words that appear in multiple inputs\n",
      "# have their totals added together.\n",
      "@everywhere function wcreduce(wcs)\n",
      "  counts=Dict()\n",
      "  for words_dict in wcs\n",
      "    for (k,v) in words_dict\n",
      "            counts[k] = get(counts,k,0)+v\n",
      "        end\n",
      "    end\n",
      "    return counts\n",
      "end\n"
     ],
     "language": "python",
     "metadata": {},
     "outputs": []
    },
    {
     "cell_type": "code",
     "collapsed": false,
     "input": [
      "## Splits input string into nprocs() equal-sized chunks (last one rounds up), \n",
      "## and @spawns wordcount() for each chunk to run in parallel. Then fetch()s\n",
      "## results and performs wcreduce().\n",
      "## Limitations: splitting the string and reduction step are single-threaded.\n",
      "#@everywhere function parallel_wordcount(text)\n",
      "#    lines=split(text,r\"'\\n'|-|/|@|<|>\",false)\n",
      "#    np=nprocs()\n",
      "#    unitsize=ceil(length(lines)/np)\n",
      "#    wcounts={}\n",
      "#    rrefs={}\n",
      "#    # spawn procs\n",
      "#    for i=1:np\n",
      "#        first=unitsize*(i-1)+1\n",
      "#        last=unitsize*i\n",
      "#        if last>length(lines)\n",
      "#            last=length(lines)\n",
      "#        end\n",
      "#        subtext=join(lines[int(first):int(last)],\"\\n\")\n",
      "#        push!(rrefs, @spawn wordcount( subtext ) )\n",
      "#    end\n",
      "#    # fetch results\n",
      "#    while length(rrefs)>0\n",
      "#        push!(wcounts,fetch(pop!(rrefs)))\n",
      "#    end\n",
      "#    # reduce\n",
      "#    count=wcreduce(wcounts)\n",
      "#    return count\n",
      "#end"
     ],
     "language": "python",
     "metadata": {},
     "outputs": []
    },
    {
     "cell_type": "code",
     "collapsed": false,
     "input": [
      "# Splits input string into nprocs() equal-sized chunks (last one rounds up), \n",
      "# and @spawns wordcount() for each chunk to run in parallel. Then fetch()s\n",
      "# results and performs wcreduce().\n",
      "# Limitations: splitting the string and reduction step are single-threaded.\n",
      "@everywhere function parallel_wordcount(text)\n",
      "    lines=split(text,r\"'\\n'|-|/|@|<|>\",false)\n",
      "    np=nprocs()\n",
      "    unitsize=ceil(length(lines)/np)\n",
      "    wcounts={}\n",
      "    rrefs={}\n",
      "    # spawn procs\n",
      "    wcounts=@parallel (hcat) for i=1:np\n",
      "        first=unitsize*(i-1)+1\n",
      "        last=unitsize*i\n",
      "        if last>length(lines)\n",
      "            last=length(lines)\n",
      "        end\n",
      "        subtext=join(lines[int(first):int(last)],\"\\n\")\n",
      "        wordcount( subtext )\n",
      "    end\n",
      "    # reduce\n",
      "    count=wcreduce([wcounts])\n",
      "    return count\n",
      "end"
     ],
     "language": "python",
     "metadata": {},
     "outputs": []
    },
    {
     "cell_type": "code",
     "collapsed": false,
     "input": [
      "## Takes the name of a result file, and a list of input file names.\n",
      "## Combines the contents of all files, then performs a parallel_wordcount\n",
      "## on the resulting string. Writes the results to result_file.\n",
      "## Limitation: Performs all file IO single-threaded.\n",
      "#function wordcount_files(input_file_names)\n",
      "#    text=\"\"\n",
      "#    for f = input_file_names\n",
      "#        fh=open(f)\n",
      "#        text=join( {text,readall(fh)}, \"\\n\" )\n",
      "#        close(fh)\n",
      "#    end\n",
      "#    wc=parallel_wordcount(text)\n",
      "#    for (k,v) = wc\n",
      "#        println(k,\"=\",v)\n",
      "#    end\n",
      "#end"
     ],
     "language": "python",
     "metadata": {},
     "outputs": []
    },
    {
     "cell_type": "code",
     "collapsed": false,
     "input": [
      "# Takes the name of a result file, and a list of input file names.\n",
      "# Combines the contents of all files, then performs a parallel_wordcount\n",
      "# on the resulting string. Writes the results to result_file.\n",
      "# Limitation: Performs all file IO single-threaded.\n",
      "@everywhere function wordcount_files(input_file_names)\n",
      "  alltext=@parallel (hcat) for f in input_file_names\n",
      "        fh=open(f)\n",
      "        text=readall(fh)\n",
      "        close(fh)\n",
      "        text\n",
      "    end\n",
      "    if length(input_file_names)>1 \n",
      "        alltext=join(alltext,\" \") #to string\n",
      "    end\n",
      "    wc=parallel_wordcount(alltext)\n",
      "    for (k,v) = wc\n",
      "        println(k,\"=\",v)\n",
      "    end\n",
      "end"
     ],
     "language": "python",
     "metadata": {},
     "outputs": []
    },
    {
     "cell_type": "code",
     "collapsed": false,
     "input": [
      "args=[\"input1.txt\",\"input2.txt\",\"input2.txt\"]#\"input3.txt\"]\n",
      "wordcount_files(args)"
     ],
     "language": "python",
     "metadata": {},
     "outputs": []
    },
    {
     "cell_type": "code",
     "collapsed": false,
     "input": [
      "a=rand(1000,1000)"
     ],
     "language": "python",
     "metadata": {},
     "outputs": []
    },
    {
     "cell_type": "code",
     "collapsed": false,
     "input": [
      "d=distribute(a)"
     ],
     "language": "python",
     "metadata": {},
     "outputs": []
    },
    {
     "cell_type": "code",
     "collapsed": false,
     "input": [
      "@time reduce(+,map(fetch,[@spawnat p sum(localpart(d)) for p in procs(d)]))"
     ],
     "language": "python",
     "metadata": {},
     "outputs": []
    },
    {
     "cell_type": "code",
     "collapsed": false,
     "input": [
      "@time reduce(+,d)"
     ],
     "language": "python",
     "metadata": {},
     "outputs": []
    }
   ],
   "metadata": {}
  }
 ]
}