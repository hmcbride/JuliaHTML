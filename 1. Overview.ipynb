{
 "metadata": {
  "language": "Julia",
  "name": ""
 },
 "nbformat": 3,
 "nbformat_minor": 0,
 "worksheets": [
  {
   "cells": [
    {
     "cell_type": "heading",
     "level": 1,
     "metadata": {},
     "source": [
      "Overview of the Julia Language"
     ]
    },
    {
     "cell_type": "heading",
     "level": 2,
     "metadata": {},
     "source": [
      "References:"
     ]
    },
    {
     "cell_type": "markdown",
     "metadata": {},
     "source": [
      "- http://learnxinyminutes.com/docs/julia/\n",
      "- http://dmbates.blogspot.com/2012/04/r-programmer-looks-at-julia.html\n",
      "- http://www.r-bloggers.com/a-beginners-look-at-julia/\n",
      "- https://github.com/JuliaLang/julia\n",
      "- http://nbviewer.ipython.org/urls/raw.github.com/johnmyleswhite/DCStats.jl/master/Setup.ipynb\n",
      "- http://julialang.org/blog/2012/03/shelling-out-sucks/\n",
      "- http://docs.julialang.org/en/latest/manual/running-external-programs/\n",
      "- http://julialang.org/blog/2013/04/put-this-in-your-pipe/\n",
      "- http://julialang.org/blog/2013/09/fast-numeric/\n",
      "- http://www.admin-magazine.com/HPC/Articles/Parallel-Julia-Jumping-Right-In\n",
      "- http://web.mit.edu/julia_v1.24.13/www/index.html\n",
      "- http://nbviewer.ipython.org/url/jdj.mit.edu/~stevenj/IJulia%2520Preview.ipynb\n",
      "- http://strata.oreilly.com/2012/10/matlab-r-julia-languages-for-data-analysis.html\n",
      "- http://asbidyarthy.blogspot.com/2012/06/julia-programming-language-downloads.html\n",
      "- http://jurjenbokma.com/ApprenticesNotes/getting_statlinked_binaries_on_debian.html"
     ]
    },
    {
     "cell_type": "heading",
     "level": 2,
     "metadata": {},
     "source": [
      "Preliminaries"
     ]
    },
    {
     "cell_type": "markdown",
     "metadata": {},
     "source": [
      "- Quitting Julia: [ctrl]-D or quit()\n",
      "- Abort or clear current command: [ctrl]-C\n",
      "- Parentheses ( ) are used for functions and multiple outputs\n",
      "- Brackets [ ] are used for indexing\n",
      "- Braces { } are used for arrays\n",
      "- Running a file: include(\"file.jl\") or require(\"file.jl\")\n",
      "- Printing values: print() or println()\n",
      "- Deployment: main.jl \n",
      "      #!/fullpath/julia\n",
      "      \n",
      "      arg=ARGS[1];\n",
      "      println(\"Hello $arg\");\n",
      "      \n",
      "  in shell: ./main.jl World => Hello World"
     ]
    },
    {
     "cell_type": "heading",
     "level": 4,
     "metadata": {},
     "source": [
      "External Shell Calls: "
     ]
    },
    {
     "cell_type": "code",
     "collapsed": false,
     "input": [
      "run(`cal`)"
     ],
     "language": "python",
     "metadata": {},
     "outputs": [
      {
       "output_type": "stream",
       "stream": "stdout",
       "text": [
        "   February 2014\n",
        "Su Mo Tu We Th Fr Sa\n",
        "                   1\n",
        " 2  3  4  5  6  7  8\n",
        " 9 10 11 12 13 14 15\n",
        "16 17 18 19 20 21 22\n",
        "23 24 25 26 27 28\n",
        "\n"
       ]
      }
     ],
     "prompt_number": 74
    },
    {
     "cell_type": "heading",
     "level": 4,
     "metadata": {},
     "source": [
      "C-Function Call:"
     ]
    },
    {
     "cell_type": "code",
     "collapsed": false,
     "input": [
      "ccall(:clock,Int32,())"
     ],
     "language": "python",
     "metadata": {},
     "outputs": [
      {
       "metadata": {},
       "output_type": "pyout",
       "prompt_number": 75,
       "text": [
        "15806808"
       ]
      }
     ],
     "prompt_number": 75
    },
    {
     "cell_type": "code",
     "collapsed": false,
     "input": [
      "bytestring(ccall(:ctime, Ptr{Uint8}, ()))"
     ],
     "language": "python",
     "metadata": {},
     "outputs": [
      {
       "metadata": {},
       "output_type": "pyout",
       "prompt_number": 76,
       "text": [
        "\"Sat Jun 30 10:59:12 2108\\n\""
       ]
      }
     ],
     "prompt_number": 76
    },
    {
     "cell_type": "heading",
     "level": 4,
     "metadata": {},
     "source": [
      "Adding Package:"
     ]
    },
    {
     "cell_type": "code",
     "collapsed": false,
     "input": [
      "Pkg.add(\"Calendar\")"
     ],
     "language": "python",
     "metadata": {},
     "outputs": [
      {
       "output_type": "stream",
       "stream": "stderr",
       "text": [
        "INFO: Nothing to be done."
       ]
      },
      {
       "output_type": "stream",
       "stream": "stderr",
       "text": [
        "\n"
       ]
      }
     ],
     "prompt_number": 77
    },
    {
     "cell_type": "code",
     "collapsed": false,
     "input": [
      "using Calendar\n",
      "Calendar.now()"
     ],
     "language": "python",
     "metadata": {},
     "outputs": [
      {
       "metadata": {},
       "output_type": "pyout",
       "prompt_number": 78,
       "text": [
        "8 Feb 2014 10:46:35 GMT"
       ]
      }
     ],
     "prompt_number": 78
    },
    {
     "cell_type": "code",
     "collapsed": false,
     "input": [
      "Calendar.dayofyear(Calendar.now())"
     ],
     "language": "python",
     "metadata": {},
     "outputs": [
      {
       "metadata": {},
       "output_type": "pyout",
       "prompt_number": 79,
       "text": [
        "39"
       ]
      }
     ],
     "prompt_number": 79
    },
    {
     "cell_type": "heading",
     "level": 2,
     "metadata": {
      "slideshow": {
       "slide_type": "-"
      }
     },
     "source": [
      "Variables, Vectors, and Matrices"
     ]
    },
    {
     "cell_type": "code",
     "collapsed": false,
     "input": [
      "x=3"
     ],
     "language": "python",
     "metadata": {},
     "outputs": [
      {
       "metadata": {},
       "output_type": "pyout",
       "prompt_number": 80,
       "text": [
        "3"
       ]
      }
     ],
     "prompt_number": 80
    },
    {
     "cell_type": "code",
     "collapsed": true,
     "input": [
      "x=[1,2,3] # column vector"
     ],
     "language": "python",
     "metadata": {},
     "outputs": [
      {
       "metadata": {},
       "output_type": "pyout",
       "prompt_number": 81,
       "text": [
        "3-element Array{Int64,1}:\n",
        " 1\n",
        " 2\n",
        " 3"
       ]
      }
     ],
     "prompt_number": 81
    },
    {
     "cell_type": "code",
     "collapsed": false,
     "input": [
      "x[2]"
     ],
     "language": "python",
     "metadata": {},
     "outputs": [
      {
       "metadata": {},
       "output_type": "pyout",
       "prompt_number": 82,
       "text": [
        "2"
       ]
      }
     ],
     "prompt_number": 82
    },
    {
     "cell_type": "code",
     "collapsed": false,
     "input": [
      "x=[1 2 3 4] # row vector"
     ],
     "language": "python",
     "metadata": {},
     "outputs": [
      {
       "metadata": {},
       "output_type": "pyout",
       "prompt_number": 83,
       "text": [
        "1x4 Array{Int64,2}:\n",
        " 1  2  3  4"
       ]
      }
     ],
     "prompt_number": 83
    },
    {
     "cell_type": "code",
     "collapsed": false,
     "input": [
      "x=(1,2,3,4)"
     ],
     "language": "python",
     "metadata": {},
     "outputs": [
      {
       "metadata": {},
       "output_type": "pyout",
       "prompt_number": 84,
       "text": [
        "(1,2,3,4)"
       ]
      }
     ],
     "prompt_number": 84
    },
    {
     "cell_type": "code",
     "collapsed": false,
     "input": [
      "x1,x2=1,2\n",
      "println(x1,\",\",x2)"
     ],
     "language": "python",
     "metadata": {},
     "outputs": [
      {
       "output_type": "stream",
       "stream": "stdout",
       "text": [
        "1,"
       ]
      },
      {
       "output_type": "stream",
       "stream": "stdout",
       "text": [
        "2\n"
       ]
      }
     ],
     "prompt_number": 85
    },
    {
     "cell_type": "code",
     "collapsed": false,
     "input": [
      "x1,x2=x2,x1 #swap x1,x2 values"
     ],
     "language": "python",
     "metadata": {},
     "outputs": [
      {
       "metadata": {},
       "output_type": "pyout",
       "prompt_number": 86,
       "text": [
        "(2,1)"
       ]
      }
     ],
     "prompt_number": 86
    },
    {
     "cell_type": "code",
     "collapsed": false,
     "input": [
      "x1"
     ],
     "language": "python",
     "metadata": {},
     "outputs": [
      {
       "metadata": {},
       "output_type": "pyout",
       "prompt_number": 87,
       "text": [
        "2"
       ]
      }
     ],
     "prompt_number": 87
    },
    {
     "cell_type": "code",
     "collapsed": false,
     "input": [
      "M=[1 2 3;4 5 6;7 8 9;10 11 12]  # matrix"
     ],
     "language": "python",
     "metadata": {},
     "outputs": [
      {
       "metadata": {},
       "output_type": "pyout",
       "prompt_number": 88,
       "text": [
        "4x3 Array{Int64,2}:\n",
        "  1   2   3\n",
        "  4   5   6\n",
        "  7   8   9\n",
        " 10  11  12"
       ]
      }
     ],
     "prompt_number": 88
    },
    {
     "cell_type": "code",
     "collapsed": false,
     "input": [
      "M=reshape(M,3,4)"
     ],
     "language": "python",
     "metadata": {},
     "outputs": [
      {
       "metadata": {},
       "output_type": "pyout",
       "prompt_number": 89,
       "text": [
        "3x4 Array{Int64,2}:\n",
        " 1  10   8   6\n",
        " 4   2  11   9\n",
        " 7   5   3  12"
       ]
      }
     ],
     "prompt_number": 89
    },
    {
     "cell_type": "code",
     "collapsed": false,
     "input": [
      "M[1,:] # first row"
     ],
     "language": "python",
     "metadata": {},
     "outputs": [
      {
       "metadata": {},
       "output_type": "pyout",
       "prompt_number": 90,
       "text": [
        "1x4 Array{Int64,2}:\n",
        " 1  10  8  6"
       ]
      }
     ],
     "prompt_number": 90
    },
    {
     "cell_type": "code",
     "collapsed": false,
     "input": [
      "M[:,1] # first column"
     ],
     "language": "python",
     "metadata": {},
     "outputs": [
      {
       "metadata": {},
       "output_type": "pyout",
       "prompt_number": 91,
       "text": [
        "3-element Array{Int64,1}:\n",
        " 1\n",
        " 4\n",
        " 7"
       ]
      }
     ],
     "prompt_number": 91
    },
    {
     "cell_type": "code",
     "collapsed": false,
     "input": [
      "M[3,1:3] # 3rd row, first to third column"
     ],
     "language": "python",
     "metadata": {},
     "outputs": [
      {
       "metadata": {},
       "output_type": "pyout",
       "prompt_number": 92,
       "text": [
        "1x3 Array{Int64,2}:\n",
        " 7  5  3"
       ]
      }
     ],
     "prompt_number": 92
    },
    {
     "cell_type": "code",
     "collapsed": false,
     "input": [
      "rand(5) # column vector of random numbers"
     ],
     "language": "python",
     "metadata": {},
     "outputs": [
      {
       "metadata": {},
       "output_type": "pyout",
       "prompt_number": 93,
       "text": [
        "5-element Array{Float64,1}:\n",
        " 0.270147  \n",
        " 0.386557  \n",
        " 0.00951552\n",
        " 0.799791  \n",
        " 0.0653292 "
       ]
      }
     ],
     "prompt_number": 93
    },
    {
     "cell_type": "code",
     "collapsed": false,
     "input": [
      "rand(5,5) # matrix of random numbers"
     ],
     "language": "python",
     "metadata": {},
     "outputs": [
      {
       "metadata": {},
       "output_type": "pyout",
       "prompt_number": 94,
       "text": [
        "5x5 Array{Float64,2}:\n",
        " 0.402386  0.381944   0.13032   0.51688   0.213652\n",
        " 0.815876  0.691016   0.121172  0.190217  0.967357\n",
        " 0.800448  0.0224139  0.455878  0.200367  0.322056\n",
        " 0.823031  0.888799   0.957614  0.050011  0.182785\n",
        " 0.58295   0.0982805  0.738836  0.508785  0.333611"
       ]
      }
     ],
     "prompt_number": 94
    },
    {
     "cell_type": "code",
     "collapsed": false,
     "input": [
      "eye(5)  # identity matrix"
     ],
     "language": "python",
     "metadata": {},
     "outputs": [
      {
       "metadata": {},
       "output_type": "pyout",
       "prompt_number": 95,
       "text": [
        "5x5 Array{Float64,2}:\n",
        " 1.0  0.0  0.0  0.0  0.0\n",
        " 0.0  1.0  0.0  0.0  0.0\n",
        " 0.0  0.0  1.0  0.0  0.0\n",
        " 0.0  0.0  0.0  1.0  0.0\n",
        " 0.0  0.0  0.0  0.0  1.0"
       ]
      }
     ],
     "prompt_number": 95
    },
    {
     "cell_type": "code",
     "collapsed": false,
     "input": [
      "a=zeros(5,5)"
     ],
     "language": "python",
     "metadata": {},
     "outputs": [
      {
       "metadata": {},
       "output_type": "pyout",
       "prompt_number": 96,
       "text": [
        "5x5 Array{Float64,2}:\n",
        " 0.0  0.0  0.0  0.0  0.0\n",
        " 0.0  0.0  0.0  0.0  0.0\n",
        " 0.0  0.0  0.0  0.0  0.0\n",
        " 0.0  0.0  0.0  0.0  0.0\n",
        " 0.0  0.0  0.0  0.0  0.0"
       ]
      }
     ],
     "prompt_number": 96
    },
    {
     "cell_type": "code",
     "collapsed": false,
     "input": [
      "b=ones(5,5)"
     ],
     "language": "python",
     "metadata": {},
     "outputs": [
      {
       "metadata": {},
       "output_type": "pyout",
       "prompt_number": 97,
       "text": [
        "5x5 Array{Float64,2}:\n",
        " 1.0  1.0  1.0  1.0  1.0\n",
        " 1.0  1.0  1.0  1.0  1.0\n",
        " 1.0  1.0  1.0  1.0  1.0\n",
        " 1.0  1.0  1.0  1.0  1.0\n",
        " 1.0  1.0  1.0  1.0  1.0"
       ]
      }
     ],
     "prompt_number": 97
    },
    {
     "cell_type": "code",
     "collapsed": false,
     "input": [
      "linspace(1,2,10) "
     ],
     "language": "python",
     "metadata": {},
     "outputs": [
      {
       "metadata": {},
       "output_type": "pyout",
       "prompt_number": 98,
       "text": [
        "10-element Array{Float64,1}:\n",
        " 1.0    \n",
        " 1.11111\n",
        " 1.22222\n",
        " 1.33333\n",
        " 1.44444\n",
        " 1.55556\n",
        " 1.66667\n",
        " 1.77778\n",
        " 1.88889\n",
        " 2.0    "
       ]
      }
     ],
     "prompt_number": 98
    },
    {
     "cell_type": "code",
     "collapsed": false,
     "input": [
      "A=diagm(ones(5))"
     ],
     "language": "python",
     "metadata": {},
     "outputs": [
      {
       "metadata": {},
       "output_type": "pyout",
       "prompt_number": 99,
       "text": [
        "5x5 Array{Float64,2}:\n",
        " 1.0  0.0  0.0  0.0  0.0\n",
        " 0.0  1.0  0.0  0.0  0.0\n",
        " 0.0  0.0  1.0  0.0  0.0\n",
        " 0.0  0.0  0.0  1.0  0.0\n",
        " 0.0  0.0  0.0  0.0  1.0"
       ]
      }
     ],
     "prompt_number": 99
    },
    {
     "cell_type": "code",
     "collapsed": false,
     "input": [
      "diag(A)"
     ],
     "language": "python",
     "metadata": {},
     "outputs": [
      {
       "metadata": {},
       "output_type": "pyout",
       "prompt_number": 100,
       "text": [
        "5-element Array{Float64,1}:\n",
        " 1.0\n",
        " 1.0\n",
        " 1.0\n",
        " 1.0\n",
        " 1.0"
       ]
      }
     ],
     "prompt_number": 100
    },
    {
     "cell_type": "code",
     "collapsed": false,
     "input": [
      "[sin(i) for i in 1:5] #comprehension"
     ],
     "language": "python",
     "metadata": {},
     "outputs": [
      {
       "metadata": {},
       "output_type": "pyout",
       "prompt_number": 101,
       "text": [
        "5-element Array{Float64,1}:\n",
        "  0.841471\n",
        "  0.909297\n",
        "  0.14112 \n",
        " -0.756802\n",
        " -0.958924"
       ]
      }
     ],
     "prompt_number": 101
    },
    {
     "cell_type": "code",
     "collapsed": false,
     "input": [
      "V=[(i,j) for i=1:3, j=4:10] "
     ],
     "language": "python",
     "metadata": {},
     "outputs": [
      {
       "metadata": {},
       "output_type": "pyout",
       "prompt_number": 102,
       "text": [
        "3x7 Array{(Int64,Int64),2}:\n",
        " (1,4)  (1,5)  (1,6)  (1,7)  (1,8)  (1,9)  (1,10)\n",
        " (2,4)  (2,5)  (2,6)  (2,7)  (2,8)  (2,9)  (2,10)\n",
        " (3,4)  (3,5)  (3,6)  (3,7)  (3,8)  (3,9)  (3,10)"
       ]
      }
     ],
     "prompt_number": 102
    },
    {
     "cell_type": "code",
     "collapsed": false,
     "input": [
      "M=[sin(i+j) for i=1:5,j=4:7]"
     ],
     "language": "python",
     "metadata": {},
     "outputs": [
      {
       "metadata": {},
       "output_type": "pyout",
       "prompt_number": 103,
       "text": [
        "5x4 Array{Float64,2}:\n",
        " -0.958924  -0.279415   0.656987   0.989358\n",
        " -0.279415   0.656987   0.989358   0.412118\n",
        "  0.656987   0.989358   0.412118  -0.544021\n",
        "  0.989358   0.412118  -0.544021  -0.99999 \n",
        "  0.412118  -0.544021  -0.99999   -0.536573"
       ]
      }
     ],
     "prompt_number": 103
    },
    {
     "cell_type": "code",
     "collapsed": false,
     "input": [
      "M = @parallel [sin(i+j) for i=1:5,j=4:7]"
     ],
     "language": "python",
     "metadata": {},
     "outputs": [
      {
       "metadata": {},
       "output_type": "pyout",
       "prompt_number": 104,
       "text": [
        "5x4 DArray{Float64,2,Array{Float64,2}}:\n",
        " -0.958924  -0.279415   0.656987   0.989358\n",
        " -0.279415   0.656987   0.989358   0.412118\n",
        "  0.656987   0.989358   0.412118  -0.544021\n",
        "  0.989358   0.412118  -0.544021  -0.99999 \n",
        "  0.412118  -0.544021  -0.99999   -0.536573"
       ]
      }
     ],
     "prompt_number": 104
    },
    {
     "cell_type": "heading",
     "level": 2,
     "metadata": {},
     "source": [
      "Function and Operations"
     ]
    },
    {
     "cell_type": "code",
     "collapsed": false,
     "input": [
      "a=3*8;\n",
      "b=8/4;\n",
      "c=4//8;\n",
      "d=2^8;\n",
      "println(\"$a,$b,$c,$d\")"
     ],
     "language": "python",
     "metadata": {},
     "outputs": [
      {
       "output_type": "stream",
       "stream": "stdout",
       "text": [
        "24,2.0,1//2,256\n"
       ]
      }
     ],
     "prompt_number": 105
    },
    {
     "cell_type": "code",
     "collapsed": false,
     "input": [
      "2^(2+3im)"
     ],
     "language": "python",
     "metadata": {},
     "outputs": [
      {
       "metadata": {},
       "output_type": "pyout",
       "prompt_number": 106,
       "text": [
        "-1.947977671863125 + 3.493620327099486im"
       ]
      }
     ],
     "prompt_number": 106
    },
    {
     "cell_type": "code",
     "collapsed": false,
     "input": [
      "sin(pi/3)"
     ],
     "language": "python",
     "metadata": {},
     "outputs": [
      {
       "metadata": {},
       "output_type": "pyout",
       "prompt_number": 107,
       "text": [
        "0.8660254037844386"
       ]
      }
     ],
     "prompt_number": 107
    },
    {
     "cell_type": "code",
     "collapsed": false,
     "input": [
      "besselj(2,5)"
     ],
     "language": "python",
     "metadata": {},
     "outputs": [
      {
       "metadata": {},
       "output_type": "pyout",
       "prompt_number": 108,
       "text": [
        "0.0465651162777522"
       ]
      }
     ],
     "prompt_number": 108
    },
    {
     "cell_type": "code",
     "collapsed": false,
     "input": [
      "f(x)=x*x"
     ],
     "language": "python",
     "metadata": {},
     "outputs": [
      {
       "metadata": {},
       "output_type": "pyout",
       "prompt_number": 109,
       "text": [
        "f (generic function with 2 methods)"
       ]
      }
     ],
     "prompt_number": 109
    },
    {
     "cell_type": "code",
     "collapsed": false,
     "input": [
      "f(3)"
     ],
     "language": "python",
     "metadata": {},
     "outputs": [
      {
       "metadata": {},
       "output_type": "pyout",
       "prompt_number": 110,
       "text": [
        "9"
       ]
      }
     ],
     "prompt_number": 110
    },
    {
     "cell_type": "code",
     "collapsed": false,
     "input": [
      "ff=function(x)\n",
      "  x*x\n",
      "end"
     ],
     "language": "python",
     "metadata": {},
     "outputs": [
      {
       "metadata": {},
       "output_type": "pyout",
       "prompt_number": 111,
       "text": [
        "(anonymous function)"
       ]
      }
     ],
     "prompt_number": 111
    },
    {
     "cell_type": "code",
     "collapsed": false,
     "input": [
      "p=println\n",
      "p(34)"
     ],
     "language": "python",
     "metadata": {},
     "outputs": [
      {
       "output_type": "stream",
       "stream": "stdout",
       "text": [
        "34\n"
       ]
      }
     ],
     "prompt_number": 112
    },
    {
     "cell_type": "code",
     "collapsed": false,
     "input": [
      "p=ff\n",
      "p(4)"
     ],
     "language": "python",
     "metadata": {},
     "outputs": [
      {
       "metadata": {},
       "output_type": "pyout",
       "prompt_number": 113,
       "text": [
        "16"
       ]
      }
     ],
     "prompt_number": 113
    },
    {
     "cell_type": "code",
     "collapsed": false,
     "input": [
      "fff(x,y,z)=x*y*z"
     ],
     "language": "python",
     "metadata": {},
     "outputs": [
      {
       "metadata": {},
       "output_type": "pyout",
       "prompt_number": 114,
       "text": [
        "fff (generic function with 1 method)"
       ]
      }
     ],
     "prompt_number": 114
    },
    {
     "cell_type": "code",
     "collapsed": false,
     "input": [
      "fff(3,4,5)"
     ],
     "language": "python",
     "metadata": {},
     "outputs": [
      {
       "metadata": {},
       "output_type": "pyout",
       "prompt_number": 115,
       "text": [
        "60"
       ]
      }
     ],
     "prompt_number": 115
    },
    {
     "cell_type": "code",
     "collapsed": false,
     "input": [
      "map(x->x*x,[1,4,2])"
     ],
     "language": "python",
     "metadata": {},
     "outputs": [
      {
       "metadata": {},
       "output_type": "pyout",
       "prompt_number": 116,
       "text": [
        "3-element Array{Int64,1}:\n",
        "  1\n",
        " 16\n",
        "  4"
       ]
      }
     ],
     "prompt_number": 116
    },
    {
     "cell_type": "code",
     "collapsed": false,
     "input": [
      "map(f,1:10000);"
     ],
     "language": "python",
     "metadata": {},
     "outputs": [],
     "prompt_number": 116
    },
    {
     "cell_type": "code",
     "collapsed": false,
     "input": [
      "map(x->x*x,1:10)"
     ],
     "language": "python",
     "metadata": {},
     "outputs": [
      {
       "metadata": {},
       "output_type": "pyout",
       "prompt_number": 117,
       "text": [
        "10-element Array{Int64,1}:\n",
        "   1\n",
        "   4\n",
        "   9\n",
        "  16\n",
        "  25\n",
        "  36\n",
        "  49\n",
        "  64\n",
        "  81\n",
        " 100"
       ]
      }
     ],
     "prompt_number": 117
    },
    {
     "cell_type": "code",
     "collapsed": false,
     "input": [
      "map(1:10) do x\n",
      "y=x*x\n",
      "end"
     ],
     "language": "python",
     "metadata": {},
     "outputs": [
      {
       "metadata": {},
       "output_type": "pyout",
       "prompt_number": 118,
       "text": [
        "10-element Array{Int64,1}:\n",
        "   1\n",
        "   4\n",
        "   9\n",
        "  16\n",
        "  25\n",
        "  36\n",
        "  49\n",
        "  64\n",
        "  81\n",
        " 100"
       ]
      }
     ],
     "prompt_number": 118
    },
    {
     "cell_type": "code",
     "collapsed": false,
     "input": [
      "x=[1,2,3]"
     ],
     "language": "python",
     "metadata": {},
     "outputs": [
      {
       "metadata": {},
       "output_type": "pyout",
       "prompt_number": 119,
       "text": [
        "3-element Array{Int64,1}:\n",
        " 1\n",
        " 2\n",
        " 3"
       ]
      }
     ],
     "prompt_number": 119
    },
    {
     "cell_type": "code",
     "collapsed": false,
     "input": [
      "3x"
     ],
     "language": "python",
     "metadata": {},
     "outputs": [
      {
       "metadata": {},
       "output_type": "pyout",
       "prompt_number": 120,
       "text": [
        "3-element Array{Int64,1}:\n",
        " 3\n",
        " 6\n",
        " 9"
       ]
      }
     ],
     "prompt_number": 120
    },
    {
     "cell_type": "code",
     "collapsed": false,
     "input": [
      "x+3"
     ],
     "language": "python",
     "metadata": {},
     "outputs": [
      {
       "metadata": {},
       "output_type": "pyout",
       "prompt_number": 121,
       "text": [
        "3-element Array{Int64,1}:\n",
        " 4\n",
        " 5\n",
        " 6"
       ]
      }
     ],
     "prompt_number": 121
    },
    {
     "cell_type": "code",
     "collapsed": false,
     "input": [
      "y=[2,4,6]"
     ],
     "language": "python",
     "metadata": {},
     "outputs": [
      {
       "metadata": {},
       "output_type": "pyout",
       "prompt_number": 122,
       "text": [
        "3-element Array{Int64,1}:\n",
        " 2\n",
        " 4\n",
        " 6"
       ]
      }
     ],
     "prompt_number": 122
    },
    {
     "cell_type": "code",
     "collapsed": false,
     "input": [
      "x' * y # dot product"
     ],
     "language": "python",
     "metadata": {},
     "outputs": [
      {
       "metadata": {},
       "output_type": "pyout",
       "prompt_number": 123,
       "text": [
        "1-element Array{Int64,1}:\n",
        " 28"
       ]
      }
     ],
     "prompt_number": 123
    },
    {
     "cell_type": "code",
     "collapsed": false,
     "input": [
      "dot(x,y) # dot product"
     ],
     "language": "python",
     "metadata": {},
     "outputs": [
      {
       "metadata": {},
       "output_type": "pyout",
       "prompt_number": 124,
       "text": [
        "28"
       ]
      }
     ],
     "prompt_number": 124
    },
    {
     "cell_type": "code",
     "collapsed": false,
     "input": [
      "sum(conj(x).* y)  # dot product"
     ],
     "language": "python",
     "metadata": {},
     "outputs": [
      {
       "metadata": {},
       "output_type": "pyout",
       "prompt_number": 125,
       "text": [
        "28"
       ]
      }
     ],
     "prompt_number": 125
    },
    {
     "cell_type": "code",
     "collapsed": false,
     "input": [
      "x .* y  # elementwise multiplication"
     ],
     "language": "python",
     "metadata": {},
     "outputs": [
      {
       "metadata": {},
       "output_type": "pyout",
       "prompt_number": 126,
       "text": [
        "3-element Array{Int64,1}:\n",
        "  2\n",
        "  8\n",
        " 18"
       ]
      }
     ],
     "prompt_number": 126
    },
    {
     "cell_type": "code",
     "collapsed": false,
     "input": [
      "cos(x) "
     ],
     "language": "python",
     "metadata": {},
     "outputs": [
      {
       "metadata": {},
       "output_type": "pyout",
       "prompt_number": 127,
       "text": [
        "3-element Array{Float64,1}:\n",
        "  0.540302\n",
        " -0.416147\n",
        " -0.989992"
       ]
      }
     ],
     "prompt_number": 127
    },
    {
     "cell_type": "code",
     "collapsed": false,
     "input": [
      "A=rand(5,5)"
     ],
     "language": "python",
     "metadata": {},
     "outputs": [
      {
       "metadata": {},
       "output_type": "pyout",
       "prompt_number": 128,
       "text": [
        "5x5 Array{Float64,2}:\n",
        " 0.524684   0.703536  0.102092  0.982403   0.489407\n",
        " 0.175455   0.160147  0.745762  0.0122103  0.619209\n",
        " 0.717188   0.709801  0.519522  0.518579   0.349601\n",
        " 0.0464405  0.886987  0.177065  0.139005   0.491476\n",
        " 0.068308   0.185774  0.570297  0.241193   0.597787"
       ]
      }
     ],
     "prompt_number": 128
    },
    {
     "cell_type": "code",
     "collapsed": false,
     "input": [
      "b=rand(5)"
     ],
     "language": "python",
     "metadata": {},
     "outputs": [
      {
       "metadata": {},
       "output_type": "pyout",
       "prompt_number": 129,
       "text": [
        "5-element Array{Float64,1}:\n",
        " 0.101844 \n",
        " 0.928401 \n",
        " 0.14802  \n",
        " 0.0346371\n",
        " 0.194479 "
       ]
      }
     ],
     "prompt_number": 129
    },
    {
     "cell_type": "code",
     "collapsed": false,
     "input": [
      "x=A\\b # solving for unknown x such that Ax=b"
     ],
     "language": "python",
     "metadata": {},
     "outputs": [
      {
       "metadata": {},
       "output_type": "pyout",
       "prompt_number": 130,
       "text": [
        "5-element Array{Float64,1}:\n",
        "  4.6017 \n",
        " -1.89241\n",
        " -3.82169\n",
        " -3.2679 \n",
        "  5.35207"
       ]
      }
     ],
     "prompt_number": 130
    },
    {
     "cell_type": "code",
     "collapsed": false,
     "input": [
      "x=pinv(A)*b # solving for unknown x such that Ax=b"
     ],
     "language": "python",
     "metadata": {},
     "outputs": [
      {
       "metadata": {},
       "output_type": "pyout",
       "prompt_number": 131,
       "text": [
        "5-element Array{Float64,1}:\n",
        "  4.6017 \n",
        " -1.89241\n",
        " -3.82169\n",
        " -3.2679 \n",
        "  5.35207"
       ]
      }
     ],
     "prompt_number": 131
    },
    {
     "cell_type": "code",
     "collapsed": false,
     "input": [
      "A*x # Ax=b"
     ],
     "language": "python",
     "metadata": {},
     "outputs": [
      {
       "metadata": {},
       "output_type": "pyout",
       "prompt_number": 132,
       "text": [
        "5-element Array{Float64,1}:\n",
        " 0.101844 \n",
        " 0.928401 \n",
        " 0.14802  \n",
        " 0.0346371\n",
        " 0.194479 "
       ]
      }
     ],
     "prompt_number": 132
    },
    {
     "cell_type": "code",
     "collapsed": false,
     "input": [
      "l,v=eig(A)"
     ],
     "language": "python",
     "metadata": {},
     "outputs": [
      {
       "metadata": {},
       "output_type": "pyout",
       "prompt_number": 133,
       "text": [
        "([2.1055172416834993 + 0.0im,0.005167117152901024 + 0.6186408510515266im,0.005167117152901024 - 0.6186408510515266im,-0.08735274188401443 + 0.16470484940516605im,-0.08735274188401443 - 0.16470484940516605im],\n",
        "5x5 Array{Complex{Float64},2}:\n",
        "  -0.52124+0.0im           0.68719+0.0im  \u2026       -0.581672-0.0im\n",
        " -0.386806+0.0im     -0.349546-0.10798im     0.0927048-0.210477im\n",
        "  -0.59237+0.0im    0.0635988-0.337189im      0.392465-0.110843im\n",
        " -0.326999+0.0im   -0.0826654+0.508302im      0.459437+0.165262im\n",
        " -0.347648+0.0im  -0.0743166+0.0738808im     -0.409957+0.189708im)"
       ]
      }
     ],
     "prompt_number": 133
    },
    {
     "cell_type": "code",
     "collapsed": false,
     "input": [
      "methods(eig)"
     ],
     "language": "python",
     "metadata": {},
     "outputs": [
      {
       "metadata": {},
       "output_type": "pyout",
       "prompt_number": 134,
       "text": [
        "# 3 methods for generic function \"eig\":\n",
        "eig(m::SymTridiagonal{T<:Union(Float32,Complex{Float64},Float64,Complex{Float32})}) at linalg/tridiag.jl:67\n",
        "eig(A::AbstractArray{T,2},B::AbstractArray{T,2}) at linalg/factorization.jl:579\n",
        "eig(A::Union(Number,AbstractArray{T,2})) at linalg/factorization.jl:502"
       ]
      }
     ],
     "prompt_number": 134
    },
    {
     "cell_type": "code",
     "collapsed": false,
     "input": [
      "v"
     ],
     "language": "python",
     "metadata": {},
     "outputs": [
      {
       "metadata": {},
       "output_type": "pyout",
       "prompt_number": 135,
       "text": [
        "5x5 Array{Complex{Float64},2}:\n",
        "  -0.52124+0.0im           0.68719+0.0im  \u2026       -0.581672-0.0im\n",
        " -0.386806+0.0im     -0.349546-0.10798im     0.0927048-0.210477im\n",
        "  -0.59237+0.0im    0.0635988-0.337189im      0.392465-0.110843im\n",
        " -0.326999+0.0im   -0.0826654+0.508302im      0.459437+0.165262im\n",
        " -0.347648+0.0im  -0.0743166+0.0738808im     -0.409957+0.189708im"
       ]
      }
     ],
     "prompt_number": 135
    },
    {
     "cell_type": "code",
     "collapsed": false,
     "input": [
      "function f(x,y) \n",
      "  return(x+y,x-y)\n",
      "end"
     ],
     "language": "python",
     "metadata": {},
     "outputs": [
      {
       "metadata": {},
       "output_type": "pyout",
       "prompt_number": 136,
       "text": [
        "f (generic function with 2 methods)"
       ]
      }
     ],
     "prompt_number": 136
    },
    {
     "cell_type": "code",
     "collapsed": false,
     "input": [
      "(res1,res2)=f(1,2)"
     ],
     "language": "python",
     "metadata": {},
     "outputs": [
      {
       "metadata": {},
       "output_type": "pyout",
       "prompt_number": 137,
       "text": [
        "(3,-1)"
       ]
      }
     ],
     "prompt_number": 137
    },
    {
     "cell_type": "code",
     "collapsed": false,
     "input": [
      "K=rand(2,2);\n",
      "(u,d,v)=svd(K);"
     ],
     "language": "python",
     "metadata": {},
     "outputs": [],
     "prompt_number": 137
    },
    {
     "cell_type": "code",
     "collapsed": false,
     "input": [
      "K"
     ],
     "language": "python",
     "metadata": {},
     "outputs": [
      {
       "metadata": {},
       "output_type": "pyout",
       "prompt_number": 138,
       "text": [
        "2x2 Array{Float64,2}:\n",
        " 0.450339  0.926042\n",
        " 0.986344  0.939758"
       ]
      }
     ],
     "prompt_number": 138
    },
    {
     "cell_type": "code",
     "collapsed": false,
     "input": [
      "v"
     ],
     "language": "python",
     "metadata": {},
     "outputs": [
      {
       "metadata": {},
       "output_type": "pyout",
       "prompt_number": 139,
       "text": [
        "2x2 Array{Float64,2}:\n",
        " -0.630194   0.776438\n",
        " -0.776438  -0.630194"
       ]
      }
     ],
     "prompt_number": 139
    },
    {
     "cell_type": "code",
     "collapsed": false,
     "input": [
      "u*diagm(d)*v"
     ],
     "language": "python",
     "metadata": {},
     "outputs": [
      {
       "metadata": {},
       "output_type": "pyout",
       "prompt_number": 140,
       "text": [
        "2x2 Array{Float64,2}:\n",
        " 0.813597  -0.631205\n",
        " 0.716757  -1.15857 "
       ]
      }
     ],
     "prompt_number": 140
    },
    {
     "cell_type": "code",
     "collapsed": false,
     "input": [
      "ndims(K)"
     ],
     "language": "python",
     "metadata": {},
     "outputs": [
      {
       "metadata": {},
       "output_type": "pyout",
       "prompt_number": 141,
       "text": [
        "2"
       ]
      }
     ],
     "prompt_number": 141
    },
    {
     "cell_type": "code",
     "collapsed": false,
     "input": [
      "size(K)"
     ],
     "language": "python",
     "metadata": {},
     "outputs": [
      {
       "metadata": {},
       "output_type": "pyout",
       "prompt_number": 142,
       "text": [
        "(2,2)"
       ]
      }
     ],
     "prompt_number": 142
    },
    {
     "cell_type": "code",
     "collapsed": false,
     "input": [
      "typeof(K)"
     ],
     "language": "python",
     "metadata": {},
     "outputs": [
      {
       "metadata": {},
       "output_type": "pyout",
       "prompt_number": 143,
       "text": [
        "Array{Float64,2}"
       ]
      }
     ],
     "prompt_number": 143
    },
    {
     "cell_type": "code",
     "collapsed": false,
     "input": [
      "x=randn(10);"
     ],
     "language": "python",
     "metadata": {},
     "outputs": [],
     "prompt_number": 143
    },
    {
     "cell_type": "code",
     "collapsed": false,
     "input": [
      "[(i>0)?\"+\":\"-\" for i in x]"
     ],
     "language": "python",
     "metadata": {},
     "outputs": [
      {
       "metadata": {},
       "output_type": "pyout",
       "prompt_number": 144,
       "text": [
        "10-element Array{ASCIIString,1}:\n",
        " \"-\"\n",
        " \"-\"\n",
        " \"-\"\n",
        " \"-\"\n",
        " \"+\"\n",
        " \"+\"\n",
        " \"-\"\n",
        " \"-\"\n",
        " \"+\"\n",
        " \"-\""
       ]
      }
     ],
     "prompt_number": 144
    }
   ],
   "metadata": {}
  }
 ]
}