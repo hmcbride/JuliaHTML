{
 "metadata": {
  "language": "Julia",
  "name": ""
 },
 "nbformat": 3,
 "nbformat_minor": 0,
 "worksheets": [
  {
   "cells": [
    {
     "cell_type": "code",
     "collapsed": false,
     "input": [
      "addprocs(8)"
     ],
     "language": "python",
     "metadata": {},
     "outputs": [
      {
       "metadata": {},
       "output_type": "pyout",
       "prompt_number": 1,
       "text": [
        "8-element Array{Any,1}:\n",
        " 2\n",
        " 3\n",
        " 4\n",
        " 5\n",
        " 6\n",
        " 7\n",
        " 8\n",
        " 9"
       ]
      }
     ],
     "prompt_number": 1
    },
    {
     "cell_type": "code",
     "collapsed": false,
     "input": [
      "nprocs()"
     ],
     "language": "python",
     "metadata": {},
     "outputs": [
      {
       "metadata": {},
       "output_type": "pyout",
       "prompt_number": 2,
       "text": [
        "9"
       ]
      }
     ],
     "prompt_number": 2
    },
    {
     "cell_type": "code",
     "collapsed": false,
     "input": [
      "dat=map(x->integer(x*10),rand(10000,10000))"
     ],
     "language": "python",
     "metadata": {},
     "outputs": [
      {
       "metadata": {},
       "output_type": "pyout",
       "prompt_number": 3,
       "text": [
        "10000x10000 Array{Int64,2}:\n",
        " 7   9   3  6   0  3  3   3   0  9   6  \u2026   0   7   7   9  10  2  1   3   3\n",
        " 8  10   6  1   5  2  5   7   4  9   3      6   7   2  10   5  6  2   2   9\n",
        " 6   5   8  8   3  6  1   9   5  6   4      4   7   9   6   1  1  4   9   5\n",
        " 2   3   5  8  10  1  7   7   9  7   5      4   7   1   1  10  9  4   6   7\n",
        " 0   0   1  3   2  8  9  10   6  7   1      5   2   3   3   1  8  6   1   8\n",
        " 7   7   6  2   5  9  9   9   7  3   0  \u2026   3  10   3   2  10  7  4   3   7\n",
        " 4   3   4  5   7  8  8   9   8  0   5     10   6   9   4   6  7  9   2   7\n",
        " 1   2  10  0   4  6  1   2   3  1   7      1   0   1   3   7  5  2   4   8\n",
        " 9   4   4  0   8  3  8   7   9  1   5      7   6   8   5   1  7  5   2   3\n",
        " 8   9   8  8   0  8  8   9   4  0   3      1   1   2   8   9  3  0   9   8\n",
        " 5   0  10  9   9  6  8   8  10  7   6  \u2026   7  10   6   7   8  4  1   4   4\n",
        " 8   6  10  0   6  4  5   7   9  6   0      9   0   4   4   4  3  9   5   9\n",
        " 0   6   9  3   2  9  6   7   1  9   3     10   2   1   7   5  2  5   6   4\n",
        " \u22ee                 \u22ee                 \u22ee  \u22f1                   \u22ee              \n",
        " 6   8   6  8   2  6  9   7   3  3   5      5   2   2   1   6  2  8   6   2\n",
        " 6   7   5  1   6  7  3   4   2  6   7      8   3   7   4   1  2  8   3   1\n",
        " 7   3   3  5   7  9  7   8   0  1   7  \u2026   3   7   7   2   0  4  3   5   9\n",
        " 7   2   3  0   5  6  2   3   1  9   6      0   4   8   9   4  9  6   5  10\n",
        " 5   8   2  7   1  1  2   5   5  2   1      6   4   3   8   1  1  6   9   5\n",
        " 8   1   5  3   3  3  0   6   6  9   8      1   5   7   2   6  6  8   7   6\n",
        " 0   4   0  1   2  7  7   4   9  7   2      5   2   8   1   9  8  7  10   9\n",
        " 6   3   2  2   8  4  8   8   8  4   8  \u2026   7   4  10   5   6  5  8   2   8\n",
        " 1   3   0  1   1  9  0   6  10  4   8      8   6   5   2   0  4  1   9   2\n",
        " 5   1   4  8   9  4  1   1   3  7  10      5  10   7   3   7  6  3   2   1\n",
        " 6   7   8  7   6  4  4   7   5  6   4      0   4   9   3   6  8  5   7   9\n",
        " 8   2   8  6  10  9  6  10   4  6   8      2   4   1   4   3  6  2   1   4"
       ]
      }
     ],
     "prompt_number": 3
    },
    {
     "cell_type": "code",
     "collapsed": false,
     "input": [
      "ddat=distribute(dat)"
     ],
     "language": "python",
     "metadata": {},
     "outputs": [
      {
       "metadata": {},
       "output_type": "pyout",
       "prompt_number": 4,
       "text": [
        "10000x10000 DArray{Int64,2,Array{Int64,2}}:\n",
        " 7   9   3  6   0  3  3   3   0  9   6  \u2026   0   7   7   9  10  2  1   3   3\n",
        " 8  10   6  1   5  2  5   7   4  9   3      6   7   2  10   5  6  2   2   9\n",
        " 6   5   8  8   3  6  1   9   5  6   4      4   7   9   6   1  1  4   9   5\n",
        " 2   3   5  8  10  1  7   7   9  7   5      4   7   1   1  10  9  4   6   7\n",
        " 0   0   1  3   2  8  9  10   6  7   1      5   2   3   3   1  8  6   1   8\n",
        " 7   7   6  2   5  9  9   9   7  3   0  \u2026   3  10   3   2  10  7  4   3   7\n",
        " 4   3   4  5   7  8  8   9   8  0   5     10   6   9   4   6  7  9   2   7\n",
        " 1   2  10  0   4  6  1   2   3  1   7      1   0   1   3   7  5  2   4   8\n",
        " 9   4   4  0   8  3  8   7   9  1   5      7   6   8   5   1  7  5   2   3\n",
        " 8   9   8  8   0  8  8   9   4  0   3      1   1   2   8   9  3  0   9   8\n",
        " 5   0  10  9   9  6  8   8  10  7   6  \u2026   7  10   6   7   8  4  1   4   4\n",
        " 8   6  10  0   6  4  5   7   9  6   0      9   0   4   4   4  3  9   5   9\n",
        " 0   6   9  3   2  9  6   7   1  9   3     10   2   1   7   5  2  5   6   4\n",
        " \u22ee                 \u22ee                 \u22ee  \u22f1                   \u22ee              \n",
        " 6   8   6  8   2  6  9   7   3  3   5      5   2   2   1   6  2  8   6   2\n",
        " 6   7   5  1   6  7  3   4   2  6   7      8   3   7   4   1  2  8   3   1\n",
        " 7   3   3  5   7  9  7   8   0  1   7  \u2026   3   7   7   2   0  4  3   5   9\n",
        " 7   2   3  0   5  6  2   3   1  9   6      0   4   8   9   4  9  6   5  10\n",
        " 5   8   2  7   1  1  2   5   5  2   1      6   4   3   8   1  1  6   9   5\n",
        " 8   1   5  3   3  3  0   6   6  9   8      1   5   7   2   6  6  8   7   6\n",
        " 0   4   0  1   2  7  7   4   9  7   2      5   2   8   1   9  8  7  10   9\n",
        " 6   3   2  2   8  4  8   8   8  4   8  \u2026   7   4  10   5   6  5  8   2   8\n",
        " 1   3   0  1   1  9  0   6  10  4   8      8   6   5   2   0  4  1   9   2\n",
        " 5   1   4  8   9  4  1   1   3  7  10      5  10   7   3   7  6  3   2   1\n",
        " 6   7   8  7   6  4  4   7   5  6   4      0   4   9   3   6  8  5   7   9\n",
        " 8   2   8  6  10  9  6  10   4  6   8      2   4   1   4   3  6  2   1   4"
       ]
      }
     ],
     "prompt_number": 4
    },
    {
     "cell_type": "code",
     "collapsed": false,
     "input": [
      "map(x->myid(),dat)"
     ],
     "language": "python",
     "metadata": {},
     "outputs": [
      {
       "metadata": {},
       "output_type": "pyout",
       "prompt_number": 5,
       "text": [
        "10000x10000 Array{Int64,2}:\n",
        " 1  1  1  1  1  1  1  1  1  1  1  1  1  \u2026  1  1  1  1  1  1  1  1  1  1  1  1\n",
        " 1  1  1  1  1  1  1  1  1  1  1  1  1     1  1  1  1  1  1  1  1  1  1  1  1\n",
        " 1  1  1  1  1  1  1  1  1  1  1  1  1     1  1  1  1  1  1  1  1  1  1  1  1\n",
        " 1  1  1  1  1  1  1  1  1  1  1  1  1     1  1  1  1  1  1  1  1  1  1  1  1\n",
        " 1  1  1  1  1  1  1  1  1  1  1  1  1     1  1  1  1  1  1  1  1  1  1  1  1\n",
        " 1  1  1  1  1  1  1  1  1  1  1  1  1  \u2026  1  1  1  1  1  1  1  1  1  1  1  1\n",
        " 1  1  1  1  1  1  1  1  1  1  1  1  1     1  1  1  1  1  1  1  1  1  1  1  1\n",
        " 1  1  1  1  1  1  1  1  1  1  1  1  1     1  1  1  1  1  1  1  1  1  1  1  1\n",
        " 1  1  1  1  1  1  1  1  1  1  1  1  1     1  1  1  1  1  1  1  1  1  1  1  1\n",
        " 1  1  1  1  1  1  1  1  1  1  1  1  1     1  1  1  1  1  1  1  1  1  1  1  1\n",
        " 1  1  1  1  1  1  1  1  1  1  1  1  1  \u2026  1  1  1  1  1  1  1  1  1  1  1  1\n",
        " 1  1  1  1  1  1  1  1  1  1  1  1  1     1  1  1  1  1  1  1  1  1  1  1  1\n",
        " 1  1  1  1  1  1  1  1  1  1  1  1  1     1  1  1  1  1  1  1  1  1  1  1  1\n",
        " \u22ee              \u22ee              \u22ee        \u22f1        \u22ee              \u22ee            \n",
        " 1  1  1  1  1  1  1  1  1  1  1  1  1     1  1  1  1  1  1  1  1  1  1  1  1\n",
        " 1  1  1  1  1  1  1  1  1  1  1  1  1     1  1  1  1  1  1  1  1  1  1  1  1\n",
        " 1  1  1  1  1  1  1  1  1  1  1  1  1  \u2026  1  1  1  1  1  1  1  1  1  1  1  1\n",
        " 1  1  1  1  1  1  1  1  1  1  1  1  1     1  1  1  1  1  1  1  1  1  1  1  1\n",
        " 1  1  1  1  1  1  1  1  1  1  1  1  1     1  1  1  1  1  1  1  1  1  1  1  1\n",
        " 1  1  1  1  1  1  1  1  1  1  1  1  1     1  1  1  1  1  1  1  1  1  1  1  1\n",
        " 1  1  1  1  1  1  1  1  1  1  1  1  1     1  1  1  1  1  1  1  1  1  1  1  1\n",
        " 1  1  1  1  1  1  1  1  1  1  1  1  1  \u2026  1  1  1  1  1  1  1  1  1  1  1  1\n",
        " 1  1  1  1  1  1  1  1  1  1  1  1  1     1  1  1  1  1  1  1  1  1  1  1  1\n",
        " 1  1  1  1  1  1  1  1  1  1  1  1  1     1  1  1  1  1  1  1  1  1  1  1  1\n",
        " 1  1  1  1  1  1  1  1  1  1  1  1  1     1  1  1  1  1  1  1  1  1  1  1  1\n",
        " 1  1  1  1  1  1  1  1  1  1  1  1  1     1  1  1  1  1  1  1  1  1  1  1  1"
       ]
      }
     ],
     "prompt_number": 5
    },
    {
     "cell_type": "code",
     "collapsed": false,
     "input": [
      "map(x->myid(),ddat)"
     ],
     "language": "python",
     "metadata": {},
     "outputs": [
      {
       "metadata": {},
       "output_type": "pyout",
       "prompt_number": 6,
       "text": [
        "10000x10000 DArray{Int64,2,Array{Int64,2}}:\n",
        " 2  2  2  2  2  2  2  2  2  2  2  2  2  \u2026  8  8  8  8  8  8  8  8  8  8  8  8\n",
        " 2  2  2  2  2  2  2  2  2  2  2  2  2     8  8  8  8  8  8  8  8  8  8  8  8\n",
        " 2  2  2  2  2  2  2  2  2  2  2  2  2     8  8  8  8  8  8  8  8  8  8  8  8\n",
        " 2  2  2  2  2  2  2  2  2  2  2  2  2     8  8  8  8  8  8  8  8  8  8  8  8\n",
        " 2  2  2  2  2  2  2  2  2  2  2  2  2     8  8  8  8  8  8  8  8  8  8  8  8\n",
        " 2  2  2  2  2  2  2  2  2  2  2  2  2  \u2026  8  8  8  8  8  8  8  8  8  8  8  8\n",
        " 2  2  2  2  2  2  2  2  2  2  2  2  2     8  8  8  8  8  8  8  8  8  8  8  8\n",
        " 2  2  2  2  2  2  2  2  2  2  2  2  2     8  8  8  8  8  8  8  8  8  8  8  8\n",
        " 2  2  2  2  2  2  2  2  2  2  2  2  2     8  8  8  8  8  8  8  8  8  8  8  8\n",
        " 2  2  2  2  2  2  2  2  2  2  2  2  2     8  8  8  8  8  8  8  8  8  8  8  8\n",
        " 2  2  2  2  2  2  2  2  2  2  2  2  2  \u2026  8  8  8  8  8  8  8  8  8  8  8  8\n",
        " 2  2  2  2  2  2  2  2  2  2  2  2  2     8  8  8  8  8  8  8  8  8  8  8  8\n",
        " 2  2  2  2  2  2  2  2  2  2  2  2  2     8  8  8  8  8  8  8  8  8  8  8  8\n",
        " \u22ee              \u22ee              \u22ee        \u22f1        \u22ee              \u22ee            \n",
        " 3  3  3  3  3  3  3  3  3  3  3  3  3     9  9  9  9  9  9  9  9  9  9  9  9\n",
        " 3  3  3  3  3  3  3  3  3  3  3  3  3     9  9  9  9  9  9  9  9  9  9  9  9\n",
        " 3  3  3  3  3  3  3  3  3  3  3  3  3  \u2026  9  9  9  9  9  9  9  9  9  9  9  9\n",
        " 3  3  3  3  3  3  3  3  3  3  3  3  3     9  9  9  9  9  9  9  9  9  9  9  9\n",
        " 3  3  3  3  3  3  3  3  3  3  3  3  3     9  9  9  9  9  9  9  9  9  9  9  9\n",
        " 3  3  3  3  3  3  3  3  3  3  3  3  3     9  9  9  9  9  9  9  9  9  9  9  9\n",
        " 3  3  3  3  3  3  3  3  3  3  3  3  3     9  9  9  9  9  9  9  9  9  9  9  9\n",
        " 3  3  3  3  3  3  3  3  3  3  3  3  3  \u2026  9  9  9  9  9  9  9  9  9  9  9  9\n",
        " 3  3  3  3  3  3  3  3  3  3  3  3  3     9  9  9  9  9  9  9  9  9  9  9  9\n",
        " 3  3  3  3  3  3  3  3  3  3  3  3  3     9  9  9  9  9  9  9  9  9  9  9  9\n",
        " 3  3  3  3  3  3  3  3  3  3  3  3  3     9  9  9  9  9  9  9  9  9  9  9  9\n",
        " 3  3  3  3  3  3  3  3  3  3  3  3  3     9  9  9  9  9  9  9  9  9  9  9  9"
       ]
      }
     ],
     "prompt_number": 6
    },
    {
     "cell_type": "code",
     "collapsed": false,
     "input": [
      "@time map(sin,dat);"
     ],
     "language": "python",
     "metadata": {},
     "outputs": [
      {
       "output_type": "stream",
       "stream": "stdout",
       "text": [
        "elapsed time: 18"
       ]
      },
      {
       "output_type": "stream",
       "stream": "stdout",
       "text": [
        ".495849369 seconds (4000237720 bytes allocated)\n"
       ]
      }
     ],
     "prompt_number": 6
    },
    {
     "cell_type": "code",
     "collapsed": false,
     "input": [
      "@time map(sin,ddat);"
     ],
     "language": "python",
     "metadata": {},
     "outputs": [
      {
       "output_type": "stream",
       "stream": "stdout",
       "text": [
        "elapsed time: 3"
       ]
      },
      {
       "output_type": "stream",
       "stream": "stdout",
       "text": [
        ".801187871 seconds (1143612 bytes allocated)\n"
       ]
      }
     ],
     "prompt_number": 6
    },
    {
     "cell_type": "code",
     "collapsed": false,
     "input": [
      "function intsum(x)\n",
      "  if x==0 \n",
      "    0\n",
      "  else\n",
      "    x+intsum(x-1)\n",
      "  end\n",
      "end"
     ],
     "language": "python",
     "metadata": {},
     "outputs": [
      {
       "metadata": {},
       "output_type": "pyout",
       "prompt_number": 7,
       "text": [
        "intsum (generic function with 1 method)"
       ]
      }
     ],
     "prompt_number": 7
    },
    {
     "cell_type": "code",
     "collapsed": false,
     "input": [
      "@time reduce(+,map(intsum,dat))"
     ],
     "language": "python",
     "metadata": {},
     "outputs": [
      {
       "output_type": "stream",
       "stream": "stdout",
       "text": [
        "elapsed time: 13"
       ]
      },
      {
       "output_type": "stream",
       "stream": "stdout",
       "text": [
        ".26386314 seconds (3573678796 bytes allocated)\n"
       ]
      },
      {
       "metadata": {},
       "output_type": "pyout",
       "prompt_number": 8,
       "text": [
        "1925337529"
       ]
      }
     ],
     "prompt_number": 8
    },
    {
     "cell_type": "code",
     "collapsed": false,
     "input": [
      "@everywhere function intsum(x)\n",
      "  if x==0 \n",
      "    0\n",
      "  else\n",
      "    x+intsum(x-1)\n",
      "  end\n",
      "end"
     ],
     "language": "python",
     "metadata": {},
     "outputs": [],
     "prompt_number": 9
    },
    {
     "cell_type": "code",
     "collapsed": false,
     "input": [
      "@time reduce(+,map(intsum,ddat))"
     ],
     "language": "python",
     "metadata": {},
     "outputs": [
      {
       "output_type": "stream",
       "stream": "stdout",
       "text": [
        "elapsed time: 6"
       ]
      },
      {
       "output_type": "stream",
       "stream": "stdout",
       "text": [
        ".24797383 seconds (1743872 bytes allocated)\n"
       ]
      },
      {
       "metadata": {},
       "output_type": "pyout",
       "prompt_number": 10,
       "text": [
        "1925337529"
       ]
      }
     ],
     "prompt_number": 10
    },
    {
     "cell_type": "code",
     "collapsed": false,
     "input": [
      "@everywhere function rsumtail(x,n)\n",
      "  if x==0\n",
      "    n\n",
      "  else\n",
      "    rsumtail(x-1,n+x)\n",
      "  end\n",
      "end\n",
      "\n",
      "@everywhere function rsumtail(x)\n",
      "  rsumtail(x,0)\n",
      "end\n",
      "\n",
      "@everywhere function rsum(x)\n",
      "  if x==0\n",
      "    0\n",
      "  else\n",
      "    x+rsum(x-1)\n",
      "  end\n",
      "end\n"
     ],
     "language": "python",
     "metadata": {},
     "outputs": [],
     "prompt_number": 11
    },
    {
     "cell_type": "code",
     "collapsed": false,
     "input": [
      "@time rsumtail(100000)"
     ],
     "language": "python",
     "metadata": {},
     "outputs": [
      {
       "output_type": "stream",
       "stream": "stdout",
       "text": [
        "elapsed time: 0.00278938 seconds (42804 bytes allocated)\n"
       ]
      },
      {
       "metadata": {},
       "output_type": "pyout",
       "prompt_number": 12,
       "text": [
        "5000050000"
       ]
      }
     ],
     "prompt_number": 12
    },
    {
     "cell_type": "code",
     "collapsed": false,
     "input": [
      "@time rsum(100000)"
     ],
     "language": "python",
     "metadata": {},
     "outputs": [
      {
       "output_type": "stream",
       "stream": "stdout",
       "text": [
        "elapsed time: 0.002768959 seconds (23496 bytes allocated)\n"
       ]
      },
      {
       "metadata": {},
       "output_type": "pyout",
       "prompt_number": 13,
       "text": [
        "5000050000"
       ]
      }
     ],
     "prompt_number": 13
    },
    {
     "cell_type": "code",
     "collapsed": false,
     "input": [
      "@time (s=0;\n",
      "for i in dat\n",
      "  s+=intsum(i)\n",
      "end;\n",
      "s)"
     ],
     "language": "python",
     "metadata": {},
     "outputs": [
      {
       "output_type": "stream",
       "stream": "stdout",
       "text": [
        "elapsed time: "
       ]
      },
      {
       "output_type": "stream",
       "stream": "stdout",
       "text": [
        "26.858735368 seconds (6400048908 bytes allocated)\n"
       ]
      },
      {
       "metadata": {},
       "output_type": "pyout",
       "prompt_number": 14,
       "text": [
        "1925337529"
       ]
      }
     ],
     "prompt_number": 14
    },
    {
     "cell_type": "code",
     "collapsed": false,
     "input": [
      "@time @parallel (+) for i in dat\n",
      "  intsum(i)\n",
      "end"
     ],
     "language": "python",
     "metadata": {},
     "outputs": [
      {
       "output_type": "stream",
       "stream": "stdout",
       "text": [
        "elapsed time: 30"
       ]
      },
      {
       "output_type": "stream",
       "stream": "stdout",
       "text": [
        ".597089961 seconds (8590437940 bytes allocated)\n"
       ]
      },
      {
       "metadata": {},
       "output_type": "pyout",
       "prompt_number": 21,
       "text": [
        "1925337529"
       ]
      }
     ],
     "prompt_number": 21
    },
    {
     "cell_type": "code",
     "collapsed": false,
     "input": [
      "@time reduce(+,map(intsum,ddat))"
     ],
     "language": "python",
     "metadata": {},
     "outputs": [
      {
       "output_type": "stream",
       "stream": "stdout",
       "text": [
        "elapsed time: 7"
       ]
      },
      {
       "output_type": "stream",
       "stream": "stdout",
       "text": [
        ".447626368 seconds (1453340 bytes allocated)\n"
       ]
      },
      {
       "metadata": {},
       "output_type": "pyout",
       "prompt_number": 16,
       "text": [
        "1925337529"
       ]
      }
     ],
     "prompt_number": 16
    },
    {
     "cell_type": "code",
     "collapsed": false,
     "input": [
      "ddat.indexes"
     ],
     "language": "python",
     "metadata": {},
     "outputs": [
      {
       "metadata": {},
       "output_type": "pyout",
       "prompt_number": 22,
       "text": [
        "2x4 Array{(Range1{Int64},Range1{Int64}),2}:\n",
        " (1:5000,1:2500)      (1:5000,2501:5000)      \u2026  (1:5000,7501:10000)    \n",
        " (5001:10000,1:2500)  (5001:10000,2501:5000)     (5001:10000,7501:10000)"
       ]
      }
     ],
     "prompt_number": 22
    },
    {
     "cell_type": "code",
     "collapsed": false,
     "input": [
      "ddat.chunks"
     ],
     "language": "python",
     "metadata": {},
     "outputs": [
      {
       "metadata": {},
       "output_type": "pyout",
       "prompt_number": 23,
       "text": [
        "2x4 Array{RemoteRef,2}:\n",
        " RemoteRef(2,1,5)  RemoteRef(4,1,7)  RemoteRef(6,1,9)   RemoteRef(8,1,11)\n",
        " RemoteRef(3,1,6)  RemoteRef(5,1,8)  RemoteRef(7,1,10)  RemoteRef(9,1,12)"
       ]
      }
     ],
     "prompt_number": 23
    },
    {
     "cell_type": "code",
     "collapsed": false,
     "input": [
      "ddat.pmap"
     ],
     "language": "python",
     "metadata": {},
     "outputs": [
      {
       "metadata": {},
       "output_type": "pyout",
       "prompt_number": 24,
       "text": [
        "8-element Array{Int64,1}:\n",
        " 2\n",
        " 3\n",
        " 4\n",
        " 5\n",
        " 6\n",
        " 7\n",
        " 8\n",
        " 9"
       ]
      }
     ],
     "prompt_number": 24
    },
    {
     "cell_type": "code",
     "collapsed": false,
     "input": [
      "fetch(@spawnat 2 sum(x->x*x,localpart(ddat)))"
     ],
     "language": "python",
     "metadata": {},
     "outputs": [
      {
       "metadata": {},
       "output_type": "pyout",
       "prompt_number": 27,
       "text": [
        "418800280"
       ]
      }
     ],
     "prompt_number": 27
    },
    {
     "cell_type": "code",
     "collapsed": false,
     "input": [
      "map(fetch,{@spawnat p sum(map(x->x*x,localpart(ddat))) for p in ddat.pmap})"
     ],
     "language": "python",
     "metadata": {},
     "outputs": [
      {
       "metadata": {},
       "output_type": "pyout",
       "prompt_number": 28,
       "text": [
        "8-element Array{Any,1}:\n",
        " 418800280\n",
        " 418938675\n",
        " 418841631\n",
        " 418547283\n",
        " 419008882\n",
        " 418728812\n",
        " 418788879\n",
        " 418975117"
       ]
      }
     ],
     "prompt_number": 28
    },
    {
     "cell_type": "code",
     "collapsed": false,
     "input": [
      "@time reduce(+,map(fetch,{@spawnat p sum(map(x->x*x,localpart(ddat))) for p in procs(ddat)}))"
     ],
     "language": "python",
     "metadata": {},
     "outputs": [
      {
       "output_type": "stream",
       "stream": "stdout",
       "text": [
        "elapsed time: 2"
       ]
      },
      {
       "output_type": "stream",
       "stream": "stdout",
       "text": [
        ".15132193 seconds (663104 bytes allocated)\n"
       ]
      },
      {
       "metadata": {},
       "output_type": "pyout",
       "prompt_number": 29,
       "text": [
        "3350629559"
       ]
      }
     ],
     "prompt_number": 29
    },
    {
     "cell_type": "code",
     "collapsed": false,
     "input": [
      "@time reduce(+,map(x->x*x,ddat))"
     ],
     "language": "python",
     "metadata": {},
     "outputs": [
      {
       "output_type": "stream",
       "stream": "stdout",
       "text": [
        "elapsed time: 3"
       ]
      },
      {
       "output_type": "stream",
       "stream": "stdout",
       "text": [
        ".018259173 seconds (1472940 bytes allocated)\n"
       ]
      },
      {
       "metadata": {},
       "output_type": "pyout",
       "prompt_number": 39,
       "text": [
        "3350629559"
       ]
      }
     ],
     "prompt_number": 39
    },
    {
     "cell_type": "code",
     "collapsed": false,
     "input": [
      "@time sum(map(x->x*x,dat))"
     ],
     "language": "python",
     "metadata": {},
     "outputs": [
      {
       "output_type": "stream",
       "stream": "stdout",
       "text": [
        "elapsed time: 8"
       ]
      },
      {
       "output_type": "stream",
       "stream": "stdout",
       "text": [
        ".165484936 seconds (2399993056 bytes allocated)\n"
       ]
      },
      {
       "metadata": {},
       "output_type": "pyout",
       "prompt_number": 42,
       "text": [
        "3350629559"
       ]
      }
     ],
     "prompt_number": 42
    }
   ],
   "metadata": {}
  }
 ]
}